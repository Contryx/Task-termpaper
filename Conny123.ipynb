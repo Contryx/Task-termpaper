{
 "cells": [
  {
   "cell_type": "code",
   "execution_count": 1,
   "id": "c1b76681",
   "metadata": {},
   "outputs": [],
   "source": [
    "class DataValidator:\n",
    "    def validate_inputs(self, input_list):\n",
    "        \"\"\"\n",
    "        Validates a list of user inputs and returns a new list containing valid positive integers.\n",
    "\n",
    "        :param input_list: List of strings representing user inputs\n",
    "        :return: List of valid positive integers\n",
    "        \"\"\"\n",
    "        valid_inputs = []\n",
    "\n",
    "        for user_input in input_list:\n",
    "            if self.is_valid_positive_integer(user_input):\n",
    "                valid_inputs.append(int(user_input))\n",
    "\n",
    "        return valid_inputs\n",
    "\n",
    "    def is_valid_positive_integer(self, input_str):\n",
    "        \"\"\"\n",
    "        Checks whether a given string represents a valid positive integer.\n",
    "\n",
    "        :param input_str: Input string to be validated\n",
    "        :return: True if valid positive integer, False otherwise\n",
    "        \"\"\"\n",
    "        try:\n",
    "            num = int(input_str)\n",
    "            return num > 0\n",
    "        except ValueError:\n",
    "            return False\n"
   ]
  }
 ],
 "metadata": {
  "kernelspec": {
   "display_name": "Python 3 (ipykernel)",
   "language": "python",
   "name": "python3"
  },
  "language_info": {
   "codemirror_mode": {
    "name": "ipython",
    "version": 3
   },
   "file_extension": ".py",
   "mimetype": "text/x-python",
   "name": "python",
   "nbconvert_exporter": "python",
   "pygments_lexer": "ipython3",
   "version": "3.11.5"
  }
 },
 "nbformat": 4,
 "nbformat_minor": 5
}
